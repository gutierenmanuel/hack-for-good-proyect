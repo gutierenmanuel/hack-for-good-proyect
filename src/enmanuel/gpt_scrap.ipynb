{
 "cells": [
  {
   "cell_type": "code",
   "execution_count": 1,
   "metadata": {},
   "outputs": [],
   "source": [
    "import scrapgpt\n",
    "\n",
    "driver = scrapgpt.open_driver()"
   ]
  },
  {
   "cell_type": "code",
   "execution_count": 2,
   "metadata": {},
   "outputs": [],
   "source": [
    "from PIL import Image, ImageEnhance, ImageFilter\n",
    "import pytesseract\n",
    "image_path = r\"marien_imagen.jpeg\"\n",
    "img = Image.open(image_path)\n",
    "#img = img.convert('RGBA')\n",
    "pix = img.load()\n",
    "# for y in range(img.size[1]):\n",
    "#     for x in range(img.size[0]):\n",
    "#         if pix[x, y][0] < 102 or pix[x, y][1] < 102 or pix[x, y][2] < 102:\n",
    "#             pix[x, y] = (0, 0, 0, 255)\n",
    "#         else:\n",
    "#             pix[x, y] = (255, 255, 255, 255)\n",
    "img.save('temp.png')\n",
    "text = pytesseract.image_to_string(Image.open('temp.png'))\n",
    "# os.remove('temp.jpg')\n",
    "\n",
    "text=text.replace('\\n',' ')\n",
    "texto = repr(text)"
   ]
  },
  {
   "cell_type": "code",
   "execution_count": 5,
   "metadata": {},
   "outputs": [],
   "source": [
    "resultado = scrapgpt.scrap_gpt(driver, f'devuelveme solamente sin comentarios el nombre de las comidas en {texto} sin comentarios extra, no digas nada mas')"
   ]
  },
  {
   "cell_type": "code",
   "execution_count": 12,
   "metadata": {},
   "outputs": [
    {
     "name": "stdout",
     "output_type": "stream",
     "text": [
      "CEBOLLETA BLANCA\n",
      "PIMIENTO ROJO\n",
      "TOMATE RAMA GRAN\n",
      "CHOCOLATE LECHE\n",
      "LONCHAS CHORIZO\n",
      "LONCH. SALCHICHON\n",
      "PATATAS FRITA L\n",
      "HUEVOS CAMPEROS\n",
      "CRACKER CON SAL\n"
     ]
    }
   ],
   "source": [
    "lista_resultado = resultado.split('/n')\n",
    "\n",
    "\n",
    "for lista in lista_resultado:\n",
    "    print(lista)"
   ]
  },
  {
   "cell_type": "code",
   "execution_count": null,
   "metadata": {},
   "outputs": [],
   "source": [
    "scrapgpt.new_chat(driver)"
   ]
  }
 ],
 "metadata": {
  "kernelspec": {
   "display_name": "venv",
   "language": "python",
   "name": "python3"
  },
  "language_info": {
   "codemirror_mode": {
    "name": "ipython",
    "version": 3
   },
   "file_extension": ".py",
   "mimetype": "text/x-python",
   "name": "python",
   "nbconvert_exporter": "python",
   "pygments_lexer": "ipython3",
   "version": "3.11.6"
  }
 },
 "nbformat": 4,
 "nbformat_minor": 2
}
